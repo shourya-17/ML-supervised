{
 "cells": [
  {
   "cell_type": "markdown",
   "metadata": {},
   "source": [
    "## Logistic Regression with SGD"
   ]
  },
  {
   "cell_type": "markdown",
   "metadata": {},
   "source": [
    "To begin you first need to install all dependencies, using:\n",
    "\n",
    "    pip install -r requirements.txt"
   ]
  },
  {
   "cell_type": "code",
   "execution_count": 1,
   "metadata": {},
   "outputs": [],
   "source": [
    "import numpy as np\n",
    "import matplotlib.pyplot as plt\n",
    "import math\n",
    "from math import exp, log\n",
    "import os\n",
    "import pickle\n",
    "\n",
    "from skimage import io\n",
    "from skimage.color import rgb2gray\n",
    "from skimage.feature import hog\n",
    "\n",
    "from sklearn.metrics import accuracy_score\n",
    "from sklearn.metrics import precision_recall_curve\n",
    "from sklearn.metrics import roc_curve"
   ]
  },
  {
   "cell_type": "code",
   "execution_count": 2,
   "metadata": {},
   "outputs": [],
   "source": [
    "%matplotlib inline"
   ]
  },
  {
   "cell_type": "markdown",
   "metadata": {},
   "source": [
    "### load the dataset"
   ]
  },
  {
   "cell_type": "code",
   "execution_count": 3,
   "metadata": {},
   "outputs": [],
   "source": [
    "### set your image dir here\n",
    "#IMAGE_DIR = \".\\\\data\\\\\"\n",
    "IMAGE_DIR = \"C:\\Users\\shour\\kaggle\\data\""
   ]
  },
  {
   "cell_type": "code",
   "execution_count": 4,
   "metadata": {},
   "outputs": [],
   "source": [
    "def load_dataset(subset=\"train\"):\n",
    "    \"\"\"\n",
    "    1. subset = \"train\", \"val\", \"test\"\n",
    "    2. About the dataset: in \"train\",\"val\" subset, the first half of images are images of hands, the rest half are images of not-hand. \n",
    "    3. extract features from HoG\n",
    "    \"\"\"\n",
    "    path = os.path.join(IMAGE_DIR,subset)\n",
    "    name_list = os.listdir(path)\n",
    "    print(\"Number of images in {}-set: {}\".format(subset, len(name_list)))\n",
    "    #HoG returns 324 features\n",
    "    X = np.zeros(shape=(len(name_list), 324))\n",
    "\n",
    "    if subset == \"train\" or subset == \"val\":\n",
    "        #Make sure that we have equal number of positive and negative class images\n",
    "        assert len(name_list)%2 == 0\n",
    "        count = len(name_list)//2\n",
    "        y = np.array(count*[1] + count*[0])\n",
    "        for idx_true in range(count):\n",
    "            img_name = os.path.join(path,str(idx_true)+\".png\")\n",
    "            img = io.imread(img_name)\n",
    "            img = rgb2gray(img)\n",
    "            vec = hog(img)\n",
    "            X[idx_true, :] = vec\n",
    "        \n",
    "        for idx in range(count):\n",
    "            idx_false = idx + count\n",
    "            img_name = os.path.join(path,str(idx_false)+\".png\")\n",
    "            img = io.imread(img_name)\n",
    "            img = rgb2gray(img)\n",
    "            vec = hog(img)\n",
    "            X[idx_false, :] = vec\n",
    "        return X, y        \n",
    "    else:\n",
    "        for idx in range(len(name_list)):\n",
    "            img_name = os.path.join(path, str(idx)+\".png\")\n",
    "            img = io.imread(img_name)\n",
    "            img = rgb2gray(img)\n",
    "            vec = hog(img)\n",
    "            X[idx, :] = vec\n",
    "        return X"
   ]
  },
  {
   "cell_type": "markdown",
   "metadata": {},
   "source": [
    "### load the data"
   ]
  },
  {
   "cell_type": "code",
   "execution_count": 5,
   "metadata": {},
   "outputs": [
    {
     "name": "stdout",
     "output_type": "stream",
     "text": [
      "Number of images in train-set: 8170\n"
     ]
    },
    {
     "name": "stderr",
     "output_type": "stream",
     "text": [
      "c:\\python27\\lib\\site-packages\\skimage\\feature\\_hog.py:150: skimage_deprecation: Default value of `block_norm`==`L1` is deprecated and will be changed to `L2-Hys` in v0.15. To supress this message specify explicitly the normalization method.\n",
      "  skimage_deprecation)\n"
     ]
    },
    {
     "name": "stdout",
     "output_type": "stream",
     "text": [
      "Number of images in val-set: 2724\n",
      "Number of images in test-set: 5542\n"
     ]
    }
   ],
   "source": [
    "X_train, y_train = load_dataset(\"train\")\n",
    "X_val, y_val = load_dataset(\"val\")\n",
    "X_test = load_dataset(\"test\")"
   ]
  },
  {
   "cell_type": "markdown",
   "metadata": {},
   "source": [
    "### displaying images"
   ]
  },
  {
   "cell_type": "code",
   "execution_count": 6,
   "metadata": {},
   "outputs": [],
   "source": [
    "def display(img_path):\n",
    "    \"\"\"\n",
    "    visualize the img\n",
    "    \"\"\"\n",
    "    img = io.imread(img_path)\n",
    "    print(img_path)\n",
    "    io.imshow(img)\n",
    "    io.show()"
   ]
  },
  {
   "cell_type": "code",
   "execution_count": 7,
   "metadata": {},
   "outputs": [
    {
     "name": "stdout",
     "output_type": "stream",
     "text": [
      "C:\\Users\\shour\\kaggle\\data\\train\\1.png\n"
     ]
    },
    {
     "data": {
      "image/png": "[encoded data removed]",
      "text/plain": [
       "<Figure size 432x288 with 1 Axes>"
      ]
     },
     "metadata": {
      "needs_background": "light"
     },
     "output_type": "display_data"
    }
   ],
   "source": [
    "display(IMAGE_DIR+\"\\\\train\\\\1.png\")"
   ]
  },
  {
   "cell_type": "markdown",
   "metadata": {},
   "source": [
    "### Logistic regression"
   ]
  },
  {
   "cell_type": "markdown",
   "metadata": {},
   "source": [
    "#### Main function in the class\n",
    "1. \\__init\\__() which sets the hyper parameters\n",
    "2. sigmoid()\n",
    "3. __init_param(), initializes the parameters .\n",
    "4. fit(): train the data\n",
    "5. predict_proba(): predict the probability of the sample belonging to the positive class\n",
    "6. predict(): classify the sample\n",
    "\n",
    "\n",
    "Feel free to overlook the rest of the parts of the code, it's just for convenience.\n"
   ]
  },
  {
   "cell_type": "code",
   "execution_count": 8,
   "metadata": {},
   "outputs": [],
   "source": [
    "class LogisticRegression:\n",
    "    \"\"\"\n",
    "    Logistic Regression\n",
    "    \"\"\"\n",
    "    def __init__(self, eta0=0.1, eta1=1, m=16, max_epoch=1000, delta=0.0001):\n",
    "        \"\"\"\n",
    "        m is the batch_size\n",
    "        \"\"\"\n",
    "        self.__init = True # whether to initial the parameters\n",
    "        self.__eta0 = eta0\n",
    "        self.__eta1 = eta1\n",
    "        self.__delta = delta\n",
    "        self.__m = m\n",
    "        self.__max_epoch = max_epoch\n",
    "        \n",
    "    def sigmoid(self, x):\n",
    "        return 1.0 / (1 + np.exp(-x))\n",
    "    \n",
    "    def __init_param(self):\n",
    "        \"\"\"\n",
    "        Weights initialized using a normal distribution here: you can change the distribution.\n",
    "        \"\"\"\n",
    "        d = self.__dimension\n",
    "        self.__wt = np.random.randn(1,d)\n",
    "        self.__bias = np.random.randn()\n",
    "        return self.__wt,self.__bias\n",
    "    \n",
    "    def fit(self, X, y, X_val=None, y_val=None):\n",
    "        \"\"\"\n",
    "        Recommended input:\n",
    "        X: n x d array,\n",
    "        y: n x 1 array or list\n",
    "        \"\"\"\n",
    "        n, d = X.shape\n",
    "        self.__dimension = d\n",
    "        \n",
    "        if self.__init:\n",
    "            self.__init_param()\n",
    "        \n",
    "        ### write your code here ###\n",
    "        \n",
    "        \n",
    "        numrows = len(X)\n",
    "        X= (np.hstack((X,np.ones(numrows).reshape(numrows,1)))).T\n",
    "        \n",
    "        d = self.__dimension\n",
    "        thetaValues = np.random.randn(1,d)\n",
    "        bValue = np.random.randn()\n",
    "        thetaValues = np.append(thetaValues, bValue)\n",
    "        calculatedLossList = list()\n",
    "        calcuatedAccuracyList = list()\n",
    "        for epochValue in range(1,self.__max_epoch):\n",
    "            eta =self.__eta0 / (self.__eta1 + epochValue)\n",
    "            numList = range(n)\n",
    "            shuffledList = np.random.permutation(numList)\n",
    "\n",
    "            divisionDenom = float(n)/self.__m\n",
    "            divisionDenom=math.ceil(divisionDenom)\n",
    "            \n",
    "            allBatches  = np.array_split(shuffledList,divisionDenom)\n",
    "            #print(shuffledList)\n",
    "            #print(divisionDenom)\n",
    "            #print (allBatches)\n",
    "            for batchCols in range(len(allBatches)): \n",
    "                #update eqn 5and 7 \n",
    "                #print(batchCols)\n",
    "                #print(allBatches[batchCols])\n",
    "                \n",
    "                batchInputData = X[:,allBatches[batchCols]] ####\n",
    "               \n",
    "                batchOutputData = y[allBatches[batchCols]]\n",
    "                thetaMat = np.dot(thetaValues, batchInputData)\n",
    "                sigmoidValue = self.sigmoid(thetaMat)\n",
    "                error = batchOutputData - sigmoidValue \n",
    "                \n",
    "                errorCorrectedDimensions = (np.reshape(error, (error.size,1)))\n",
    "                \n",
    "                likelihoodDerivative = np.dot(batchInputData,errorCorrectedDimensions)\n",
    "                currentBatchSize = len(allBatches[batchCols])\n",
    "                averageLikelihoodDerivative =likelihoodDerivative / currentBatchSize\n",
    "                \n",
    "                thetaValues = thetaValues + np.transpose((eta)*averageLikelihoodDerivative)\n",
    "              \n",
    "                                       \n",
    "            yCorrectedDims = np.reshape(y,(1,np.size(y)))\n",
    "            maxLogLikelihood = np.dot(yCorrectedDims,(np.dot(thetaValues,X)).T).item(0)\n",
    "                            \n",
    "                                       \n",
    "            lossValueNew = ( np.sum(np.log(1+np.exp(np.dot(thetaValues, X)))) - maxLogLikelihood )/(numrows)\n",
    "            calculatedLossList.append(lossValueNew) \n",
    "            \n",
    "            predictedVal = self.predict(np.dot(thetaValues,X))\n",
    "            correctInstances = 0\n",
    "            diffMatrix = predictedVal[0] - y\n",
    "            correctInstances = (diffMatrix == 0).sum()\n",
    "            \n",
    "            \n",
    "            \n",
    "            calcuatedAccuracyList.append(correctInstances/float(n))\n",
    "            \n",
    "                              \n",
    "            if (epochValue > 1 ) :\n",
    "                if (lossValueNew>(1-self.__delta)*(lossValueOld)):\n",
    "                    break\n",
    "            \n",
    "            lossValueOld = lossValueNew       \n",
    "            \n",
    "        \n",
    "\n",
    "        ############################\n",
    "        return calculatedLossList, epochValue, calcuatedAccuracyList\n",
    "    \n",
    "    def predict_proba(self, X):\n",
    "        \"\"\"\n",
    "        predict the probility of the sample\n",
    "        You can refer to my code below\n",
    "        \"\"\"\n",
    "        return self.sigmoid(X)\n",
    "#         return a vector containing the probability values of the samples belonging to the positive class\n",
    "    \n",
    "    def predict(self, X):\n",
    "        \"\"\"\n",
    "        Classify the sample\n",
    "        \"\"\"\n",
    "        probVal = self.predict_proba(X)\n",
    "        for i in range (probVal.size):\n",
    "\n",
    "            if probVal[0,i] >= 0.5: \n",
    "                probVal[0,i] = 1\n",
    "            else: probVal[0,i]= 0\n",
    "        return probVal      \n",
    "\n",
    "#         return self.predict_proba(X) >= 0.5 # attention: this will give result in bool, you need to convert it to int for submission. \n",
    "    \n",
    "    def get_param(self):\n",
    "        \"\"\"\n",
    "        output:\n",
    "            parameters: wt(1*d array), b(scalar)\n",
    "        \"\"\"\n",
    "        return [self.__wt, self.__bias]\n",
    "    \n",
    "    def save_model(self, save_file):\n",
    "        \"\"\"\n",
    "        save model to .pkl file\n",
    "        \"\"\"\n",
    "        with open(save_file,\"wb\") as file:\n",
    "            pickle.dump([self.__wt, self.__bias],file)\n",
    "\n",
    "    def load_model(self, load_file):\n",
    "        \"\"\"\n",
    "        load model from .pkl file\n",
    "        \"\"\"\n",
    "        with open(load_file,\"rb\") as file:\n",
    "            param = pickle.load(file)\n",
    "        self.__wt = param[0]\n",
    "        self.__bias = param[1]\n",
    "        self.__init = False\n",
    "        return self.__wt, self.__bias"
   ]
  },
  {
   "cell_type": "markdown",
   "metadata": {},
   "source": [
    "## Question 2.3"
   ]
  },
  {
   "cell_type": "markdown",
   "metadata": {
    "scrolled": true
   },
   "source": [
    "### 1. Baseline Model"
   ]
  },
  {
   "cell_type": "code",
   "execution_count": 10,
   "metadata": {
    "scrolled": true
   },
   "outputs": [
    {
     "name": "stdout",
     "output_type": "stream",
     "text": [
      "356\n",
      "0.517817796737999\n",
      "0.8101591187270502\n"
     ]
    }
   ],
   "source": [
    "LR = LogisticRegression()\n",
    "calculatedLossList, iterations, calcuatedAccuracyList = LR.fit(X_train,y_train)\n",
    "print iterations\n",
    "print calculatedLossList[-1]\n",
    "print calcuatedAccuracyList[-1]"
   ]
  },
  {
   "cell_type": "markdown",
   "metadata": {},
   "source": [
    "(a) Number of epochs till termination = 356"
   ]
  },
  {
   "cell_type": "code",
   "execution_count": 11,
   "metadata": {},
   "outputs": [
    {
     "data": {
      "text/plain": [
       "Text(0,0.5,'L(theta)')"
      ]
     },
     "execution_count": 11,
     "metadata": {},
     "output_type": "execute_result"
    },
    {
     "data": {
      "image/png": "[encoded data removed]",
      "text/plain": [
       "<Figure size 432x288 with 1 Axes>"
      ]
     },
     "metadata": {
      "needs_background": "light"
     },
     "output_type": "display_data"
    }
   ],
   "source": [
    "# (b) Plot L(theta) vs num_epochs\n",
    "plt.plot(range(len(calculatedLossList)),calculatedLossList)\n",
    "plt.title(\"Loss function : Logistic  Regression\")\n",
    "plt.xlabel(\"Epochs\")\n",
    "plt.ylabel(\"L(theta)\")"
   ]
  },
  {
   "cell_type": "markdown",
   "metadata": {},
   "source": [
    "(c) Final value of L($\\theta$) after optimization = 0.517817796737999"
   ]
  },
  {
   "cell_type": "markdown",
   "metadata": {},
   "source": [
    "### 2. Experimenting with ($\\eta_0$,$\\eta_1$)"
   ]
  },
  {
   "cell_type": "code",
   "execution_count": 12,
   "metadata": {
    "scrolled": false
   },
   "outputs": [],
   "source": [
    "# Experimentation code goes here\n",
    "delimiter = \" ### \"\n",
    "\n",
    "outputFile=open(\"C:\\\\Users\\\\shour\\\\OneDrive\\\\Desktop\\\\ML3OutputFile.txt\", \"a\")\n",
    "\n",
    "for etaZero in range(0, 50, 1):\n",
    "    for etaOne in range(0, 50, 1):\n",
    "        logiReg = LogisticRegression( eta0 = etaZero, eta1 = etaOne)\n",
    "        calculatedLossList, iterations, calcuatedAccuracyList = logiReg.fit(X_train,y_train,X_val, y_val )\n",
    "        ouput = str(etaZero) + delimiter + str(etaOne)+ delimiter+ str(calculatedLossList[-1]) +delimiter+  str(calcuatedAccuracyList[-1])+delimiter+ str(iterations)\n",
    "        outputFile.write(ouput)\n",
    "        outputFile.write(\"\\n\")\n"
   ]
  },
  {
   "cell_type": "markdown",
   "metadata": {},
   "source": [
    "(a) Best value for, $\\eta_0$ = 49, $\\eta_1$ = 1\n",
    "\n",
    "Number of epochs for training = 7\n",
    "\n",
    "Final value of L($\\theta$) = 0.255259554717024"
   ]
  },
  {
   "cell_type": "code",
   "execution_count": 14,
   "metadata": {},
   "outputs": [
    {
     "data": {
      "text/plain": [
       "Text(0,0.5,'L(theta)')"
      ]
     },
     "execution_count": 14,
     "metadata": {},
     "output_type": "execute_result"
    },
    {
     "data": {
      "image/png": "[encoded data removed]",
      "text/plain": [
       "<Figure size 432x288 with 1 Axes>"
      ]
     },
     "metadata": {
      "needs_background": "light"
     },
     "output_type": "display_data"
    }
   ],
   "source": [
    "# (b) For best (eta_0, eta_1) plot L(theta) vs num_epochs\n",
    "\n",
    "bestEtaValues = LogisticRegression(eta0 = 49, eta1 = 1)               # give best values from the output file created\n",
    "calculatedLossList, iterations, calcuatedAccuracyList = bestEtaValues.fit(X_train,y_train)\n",
    "\n",
    "plt.plot(range(len(calculatedLossList)),calculatedLossList)\n",
    "plt.title(\"Loss function for best eta0 and eta1\")\n",
    "plt.xlabel(\"Epochs\")\n",
    "plt.ylabel(\"L(theta)\")"
   ]
  },
  {
   "cell_type": "markdown",
   "metadata": {},
   "source": [
    "### 3. Evaluating on validation set"
   ]
  },
  {
   "cell_type": "code",
   "execution_count": 15,
   "metadata": {},
   "outputs": [
    {
     "data": {
      "text/plain": [
       "Text(0,0.5,'L(Theta)')"
      ]
     },
     "execution_count": 15,
     "metadata": {},
     "output_type": "execute_result"
    },
    {
     "data": {
      "image/png": "[encoded data removed]",
      "text/plain": [
       "<Figure size 432x288 with 1 Axes>"
      ]
     },
     "metadata": {
      "needs_background": "light"
     },
     "output_type": "display_data"
    }
   ],
   "source": [
    "# (a) Plot L(theta) vs num_epochs for both training and validation set on the same figure\n",
    "\n",
    "calculatedLossListTrain, iterationsTrain, calcuatedAccuracyListTrain = LR.fit(X_train,y_train)\n",
    "calculatedLossListVals, iterationsVals, calcuatedAccuracyListVals = LR.fit(X_val, y_val)\n",
    "\n",
    "\n",
    "plt.plot(range(len(calculatedLossListVals)),calculatedLossListVals)\n",
    "plt.plot(range(len(calculatedLossListTrain)),calculatedLossListTrain)\n",
    "plt.legend(['Loss - Training Set', 'Loss - Validation Set'])\n",
    "plt.title(\"Loss function - traning and validation set\")\n",
    "plt.xlabel(\"Epochs\")\n",
    "plt.ylabel(\"L(Theta)\")"
   ]
  },
  {
   "cell_type": "code",
   "execution_count": 16,
   "metadata": {},
   "outputs": [
    {
     "data": {
      "text/plain": [
       "Text(0,0.5,'L(Theta)')"
      ]
     },
     "execution_count": 16,
     "metadata": {},
     "output_type": "execute_result"
    },
    {
     "data": {
      "image/png": "[encoded data removed]",
      "text/plain": [
       "<Figure size 432x288 with 1 Axes>"
      ]
     },
     "metadata": {
      "needs_background": "light"
     },
     "output_type": "display_data"
    }
   ],
   "source": [
    "# (b) Plot Accuracy vs num_epochs for both training and validation set on the same figure\n",
    "plt.plot(range(len(calcuatedAccuracyListTrain)),calcuatedAccuracyListTrain)\n",
    "plt.plot(range(len(calcuatedAccuracyListVals)),calcuatedAccuracyListVals)\n",
    "plt.title(\"Accuracy vs Epochs -  traning and validation set\")\n",
    "plt.legend(['Accuracy - Training Set', 'Accuracy - Validation Set'])\n",
    "plt.xlabel(\"Epochs\")\n",
    "plt.ylabel(\"L(Theta)\")"
   ]
  },
  {
   "cell_type": "markdown",
   "metadata": {},
   "source": [
    "### 4. ROC and Precision-Recall curves"
   ]
  },
  {
   "cell_type": "code",
   "execution_count": null,
   "metadata": {},
   "outputs": [],
   "source": [
    "#(a) Plot ROC curve on validation data\n"
   ]
  },
  {
   "cell_type": "markdown",
   "metadata": {},
   "source": [
    "Area under curve = __"
   ]
  },
  {
   "cell_type": "code",
   "execution_count": null,
   "metadata": {},
   "outputs": [],
   "source": [
    "#(a) Plot Precision-Recall curve on validation data\n"
   ]
  },
  {
   "cell_type": "code",
   "execution_count": null,
   "metadata": {},
   "outputs": [],
   "source": [
    "Average Precision = __"
   ]
  },
  {
   "cell_type": "markdown",
   "metadata": {},
   "source": [
    "## Question 2.4"
   ]
  },
  {
   "cell_type": "markdown",
   "metadata": {},
   "source": [
    "### 1. Submission"
   ]
  },
  {
   "cell_type": "code",
   "execution_count": null,
   "metadata": {},
   "outputs": [],
   "source": [
    "import pandas as pd\n",
    "def submission(y_pred):\n",
    "    \"\"\"\n",
    "    generate the submission.csv for kaggle\n",
    "    input args:\n",
    "        y_pred: 5542x1 array or list contains 5542 elements\n",
    "        \n",
    "    \"\"\"\n",
    "    save_file = pd.DataFrame(columns=[\"Id\",\"Class\"])\n",
    "    id = np.array([idx for idx in range(5542)])\n",
    "    save_file[\"Id\"] = id\n",
    "    save_file[\"Class\"]= y_pred\n",
    "    save_file.to_csv(\"submission.csv\",index=0)          "
   ]
  },
  {
   "cell_type": "markdown",
   "metadata": {},
   "source": [
    "#### Generate the submission.csv"
   ]
  },
  {
   "cell_type": "code",
   "execution_count": null,
   "metadata": {},
   "outputs": [],
   "source": [
    "# code goes here"
   ]
  },
  {
   "cell_type": "markdown",
   "metadata": {},
   "source": [
    "Best obtained accuracy on Public Leader-board = __%"
   ]
  },
  {
   "cell_type": "code",
   "execution_count": null,
   "metadata": {},
   "outputs": [],
   "source": []
  },
  {
   "cell_type": "code",
   "execution_count": 13,
   "metadata": {},
   "outputs": [
    {
     "name": "stdout",
     "output_type": "stream",
     "text": [
      "hello\n"
     ]
    }
   ],
   "source": [
    "print (\"hello\")"
   ]
  },
  {
   "cell_type": "code",
   "execution_count": null,
   "metadata": {},
   "outputs": [],
   "source": []
  }
 ],
 "metadata": {
  "kernelspec": {
   "display_name": "Python 2",
   "language": "python",
   "name": "python2"
  },
  "language_info": {
   "codemirror_mode": {
    "name": "ipython",
    "version": 2
   },
   "file_extension": ".py",
   "mimetype": "text/x-python",
   "name": "python",
   "nbconvert_exporter": "python",
   "pygments_lexer": "ipython2",
   "version": "2.7.15"
  }
 },
 "nbformat": 4,
 "nbformat_minor": 2
}
